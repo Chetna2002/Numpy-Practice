{
  "metadata": {
    "kernelspec": {
      "name": "python",
      "display_name": "Python (Pyodide)",
      "language": "python"
    },
    "language_info": {
      "codemirror_mode": {
        "name": "python",
        "version": 3
      },
      "file_extension": ".py",
      "mimetype": "text/x-python",
      "name": "python",
      "nbconvert_exporter": "python",
      "pygments_lexer": "ipython3",
      "version": "3.8"
    }
  },
  "nbformat_minor": 5,
  "nbformat": 4,
  "cells": [
    {
      "id": "31915c66-2987-4a2e-a0fc-5d2c37c783da",
      "cell_type": "code",
      "source": "import numpy\n",
      "metadata": {
        "trusted": true
      },
      "outputs": [],
      "execution_count": 1
    },
    {
      "id": "b37c64b2-cabe-4df8-80f1-7368e9206b09",
      "cell_type": "code",
      "source": "numpy.array([1,2,3])",
      "metadata": {
        "trusted": true
      },
      "outputs": [
        {
          "execution_count": 2,
          "output_type": "execute_result",
          "data": {
            "text/plain": "array([1, 2, 3])"
          },
          "metadata": {}
        }
      ],
      "execution_count": 2
    },
    {
      "id": "2b2b24d9-66af-4e1c-b9fe-46e7cf971cbb",
      "cell_type": "code",
      "source": "from numpy import*\n",
      "metadata": {
        "trusted": true
      },
      "outputs": [],
      "execution_count": 3
    },
    {
      "id": "794d32bd-32d9-4edf-aeca-77ef498bd0da",
      "cell_type": "code",
      "source": "array([1,2,3])",
      "metadata": {
        "trusted": true
      },
      "outputs": [],
      "execution_count": null
    },
    {
      "id": "3cc5a064-1d9b-462a-a515-d944fc184b56",
      "cell_type": "code",
      "source": "array([1,2,3])",
      "metadata": {
        "trusted": true
      },
      "outputs": [
        {
          "execution_count": 4,
          "output_type": "execute_result",
          "data": {
            "text/plain": "array([1, 2, 3])"
          },
          "metadata": {}
        }
      ],
      "execution_count": 4
    },
    {
      "id": "eb34a636-d0c1-4044-b335-b5ff8a038e1d",
      "cell_type": "code",
      "source": "import numpy as np\n",
      "metadata": {
        "trusted": true
      },
      "outputs": [],
      "execution_count": 5
    },
    {
      "id": "ab987ce2-e346-4323-9e59-0c41b2bf74c2",
      "cell_type": "code",
      "source": "np.array([1,2,3])",
      "metadata": {
        "trusted": true
      },
      "outputs": [
        {
          "execution_count": 6,
          "output_type": "execute_result",
          "data": {
            "text/plain": "array([1, 2, 3])"
          },
          "metadata": {}
        }
      ],
      "execution_count": 6
    },
    {
      "id": "e25a0a69-dd88-4494-8835-d9ea621fc67c",
      "cell_type": "code",
      "source": "np.__version__",
      "metadata": {
        "trusted": true
      },
      "outputs": [
        {
          "execution_count": 7,
          "output_type": "execute_result",
          "data": {
            "text/plain": "'2.0.2'"
          },
          "metadata": {}
        }
      ],
      "execution_count": 7
    },
    {
      "id": "65229976-7e8e-42f8-bde3-bd79526b2568",
      "cell_type": "code",
      "source": "array1=np.arange(100000)",
      "metadata": {
        "trusted": true
      },
      "outputs": [],
      "execution_count": 8
    },
    {
      "id": "d9752454-7305-44f7-b86c-d8273864671d",
      "cell_type": "code",
      "source": "array2=list(range(100000))",
      "metadata": {
        "trusted": true
      },
      "outputs": [],
      "execution_count": 9
    },
    {
      "id": "04e78921-1f3c-4173-b342-92ce2ca96f3d",
      "cell_type": "code",
      "source": "%time for i in range(10): my_array= array1= array1*2",
      "metadata": {
        "trusted": true
      },
      "outputs": [
        {
          "name": "stdout",
          "output_type": "stream",
          "text": "CPU times: user 0 ns, sys: 0 ns, total: 0 ns\nWall time: 5 ms\n"
        }
      ],
      "execution_count": 12
    },
    {
      "id": "06de97b0-16a2-472b-ae29-97694a6ccfe5",
      "cell_type": "code",
      "source": "help(np.sort)",
      "metadata": {
        "trusted": true
      },
      "outputs": [
        {
          "name": "stdout",
          "output_type": "stream",
          "text": "Help on _ArrayFunctionDispatcher in module numpy:\n\nsort(a, axis=-1, kind=None, order=None, *, stable=None)\n    Return a sorted copy of an array.\n\n    Parameters\n    ----------\n    a : array_like\n        Array to be sorted.\n    axis : int or None, optional\n        Axis along which to sort. If None, the array is flattened before\n        sorting. The default is -1, which sorts along the last axis.\n    kind : {'quicksort', 'mergesort', 'heapsort', 'stable'}, optional\n        Sorting algorithm. The default is 'quicksort'. Note that both 'stable'\n        and 'mergesort' use timsort or radix sort under the covers and,\n        in general, the actual implementation will vary with data type.\n        The 'mergesort' option is retained for backwards compatibility.\n\n        .. versionchanged:: 1.15.0.\n           The 'stable' option was added.\n\n    order : str or list of str, optional\n        When `a` is an array with fields defined, this argument specifies\n        which fields to compare first, second, etc.  A single field can\n        be specified as a string, and not all fields need be specified,\n        but unspecified fields will still be used, in the order in which\n        they come up in the dtype, to break ties.\n    stable : bool, optional\n        Sort stability. If ``True``, the returned array will maintain\n        the relative order of ``a`` values which compare as equal.\n        If ``False`` or ``None``, this is not guaranteed. Internally,\n        this option selects ``kind='stable'``. Default: ``None``.\n\n        .. versionadded:: 2.0.0\n\n    Returns\n    -------\n    sorted_array : ndarray\n        Array of the same type and shape as `a`.\n\n    See Also\n    --------\n    ndarray.sort : Method to sort an array in-place.\n    argsort : Indirect sort.\n    lexsort : Indirect stable sort on multiple keys.\n    searchsorted : Find elements in a sorted array.\n    partition : Partial sort.\n\n    Notes\n    -----\n    The various sorting algorithms are characterized by their average speed,\n    worst case performance, work space size, and whether they are stable. A\n    stable sort keeps items with the same key in the same relative\n    order. The four algorithms implemented in NumPy have the following\n    properties:\n\n    =========== ======= ============= ============ ========\n       kind      speed   worst case    work space   stable\n    =========== ======= ============= ============ ========\n    'quicksort'    1     O(n^2)            0          no\n    'heapsort'     3     O(n*log(n))       0          no\n    'mergesort'    2     O(n*log(n))      ~n/2        yes\n    'timsort'      2     O(n*log(n))      ~n/2        yes\n    =========== ======= ============= ============ ========\n\n    .. note:: The datatype determines which of 'mergesort' or 'timsort'\n       is actually used, even if 'mergesort' is specified. User selection\n       at a finer scale is not currently available.\n\n    For performance, ``sort`` makes a temporary copy if needed to make the data\n    `contiguous <https://numpy.org/doc/stable/glossary.html#term-contiguous>`_\n    in memory along the sort axis. For even better performance and reduced\n    memory consumption, ensure that the array is already contiguous along the\n    sort axis.\n\n    The sort order for complex numbers is lexicographic. If both the real\n    and imaginary parts are non-nan then the order is determined by the\n    real parts except when they are equal, in which case the order is\n    determined by the imaginary parts.\n\n    Previous to numpy 1.4.0 sorting real and complex arrays containing nan\n    values led to undefined behaviour. In numpy versions >= 1.4.0 nan\n    values are sorted to the end. The extended sort order is:\n\n      * Real: [R, nan]\n      * Complex: [R + Rj, R + nanj, nan + Rj, nan + nanj]\n\n    where R is a non-nan real value. Complex values with the same nan\n    placements are sorted according to the non-nan part if it exists.\n    Non-nan values are sorted as before.\n\n    .. versionadded:: 1.12.0\n\n    quicksort has been changed to:\n    `introsort <https://en.wikipedia.org/wiki/Introsort>`_.\n    When sorting does not make enough progress it switches to\n    `heapsort <https://en.wikipedia.org/wiki/Heapsort>`_.\n    This implementation makes quicksort O(n*log(n)) in the worst case.\n\n    'stable' automatically chooses the best stable sorting algorithm\n    for the data type being sorted.\n    It, along with 'mergesort' is currently mapped to\n    `timsort <https://en.wikipedia.org/wiki/Timsort>`_\n    or `radix sort <https://en.wikipedia.org/wiki/Radix_sort>`_\n    depending on the data type.\n    API forward compatibility currently limits the\n    ability to select the implementation and it is hardwired for the different\n    data types.\n\n    .. versionadded:: 1.17.0\n\n    Timsort is added for better performance on already or nearly\n    sorted data. On random data timsort is almost identical to\n    mergesort. It is now used for stable sort while quicksort is still the\n    default sort if none is chosen. For timsort details, refer to\n    `CPython listsort.txt\n    <https://github.com/python/cpython/blob/3.7/Objects/listsort.txt>`_\n    'mergesort' and 'stable' are mapped to radix sort for integer data types.\n    Radix sort is an O(n) sort instead of O(n log n).\n\n    .. versionchanged:: 1.18.0\n\n    NaT now sorts to the end of arrays for consistency with NaN.\n\n    Examples\n    --------\n    >>> a = np.array([[1,4],[3,1]])\n    >>> np.sort(a)                # sort along the last axis\n    array([[1, 4],\n           [1, 3]])\n    >>> np.sort(a, axis=None)     # sort the flattened array\n    array([1, 1, 3, 4])\n    >>> np.sort(a, axis=0)        # sort along the first axis\n    array([[1, 1],\n           [3, 4]])\n\n    Use the `order` keyword to specify a field to use when sorting a\n    structured array:\n\n    >>> dtype = [('name', 'S10'), ('height', float), ('age', int)]\n    >>> values = [('Arthur', 1.8, 41), ('Lancelot', 1.9, 38),\n    ...           ('Galahad', 1.7, 38)]\n    >>> a = np.array(values, dtype=dtype)       # create a structured array\n    >>> np.sort(a, order='height')                        # doctest: +SKIP\n    array([('Galahad', 1.7, 38), ('Arthur', 1.8, 41),\n           ('Lancelot', 1.8999999999999999, 38)],\n          dtype=[('name', '|S10'), ('height', '<f8'), ('age', '<i4')])\n\n    Sort by age, then height if ages are equal:\n\n    >>> np.sort(a, order=['age', 'height'])               # doctest: +SKIP\n    array([('Galahad', 1.7, 38), ('Lancelot', 1.8999999999999999, 38),\n           ('Arthur', 1.8, 41)],\n          dtype=[('name', '|S10'), ('height', '<f8'), ('age', '<i4')])\n\n"
        }
      ],
      "execution_count": 13
    },
    {
      "id": "9a7c2203-90b1-4256-9ca0-bde17542fcdc",
      "cell_type": "code",
      "source": "from numpy import doc",
      "metadata": {
        "trusted": true
      },
      "outputs": [],
      "execution_count": 14
    },
    {
      "id": "f3de650a-87ae-4d0c-b61b-0ba23611a93f",
      "cell_type": "code",
      "source": "help(doc)",
      "metadata": {
        "trusted": true
      },
      "outputs": [
        {
          "name": "stdout",
          "output_type": "stream",
          "text": "Help on package numpy.doc in numpy:\n\nNAME\n    numpy.doc\n\nPACKAGE CONTENTS\n    ufuncs\n\nFILE\n    (built-in)\n\n\n"
        }
      ],
      "execution_count": 15
    },
    {
      "id": "5e650389-310a-4697-a296-0e2004290add",
      "cell_type": "code",
      "source": "help(np.doc.ufuncs)",
      "metadata": {
        "trusted": true
      },
      "outputs": [
        {
          "ename": "<class 'AttributeError'>",
          "evalue": "module 'numpy.doc' has no attribute 'ufuncs'",
          "traceback": [
            "\u001b[0;31m---------------------------------------------------------------------------\u001b[0m",
            "\u001b[0;31mAttributeError\u001b[0m                            Traceback (most recent call last)",
            "Cell \u001b[0;32mIn[17], line 1\u001b[0m\n\u001b[0;32m----> 1\u001b[0m help(\u001b[43mnp\u001b[49m\u001b[38;5;241;43m.\u001b[39;49m\u001b[43mdoc\u001b[49m\u001b[38;5;241;43m.\u001b[39;49m\u001b[43mufuncs\u001b[49m)\n",
            "\u001b[0;31mAttributeError\u001b[0m: module 'numpy.doc' has no attribute 'ufuncs'"
          ],
          "output_type": "error"
        }
      ],
      "execution_count": 17
    },
    {
      "id": "88894094-d99c-4c59-97e6-5f65b7cb45fa",
      "cell_type": "code",
      "source": "np.lookfor",
      "metadata": {
        "trusted": true
      },
      "outputs": [],
      "execution_count": null
    },
    {
      "id": "ea27e7c6-7731-4b74-9ef9-ffcc4d52a359",
      "cell_type": "code",
      "source": "np?",
      "metadata": {
        "trusted": true,
        "scrolled": true
      },
      "outputs": [
        {
          "name": "stdout",
          "output_type": "stream",
          "text": "\u001b[0;31mType:\u001b[0m        module\n\u001b[0;31mString form:\u001b[0m <module 'numpy' from '/lib/python3.12/site-packages/numpy/__init__.py'>\n\u001b[0;31mFile:\u001b[0m        /lib/python3.12/site-packages/numpy/__init__.py\n\u001b[0;31mDocstring:\u001b[0m  \nNumPy\n=====\n\nProvides\n  1. An array object of arbitrary homogeneous items\n  2. Fast mathematical operations over arrays\n  3. Linear Algebra, Fourier Transforms, Random Number Generation\n\nHow to use the documentation\n----------------------------\nDocumentation is available in two forms: docstrings provided\nwith the code, and a loose standing reference guide, available from\n`the NumPy homepage <https://numpy.org>`_.\n\nWe recommend exploring the docstrings using\n`IPython <https://ipython.org>`_, an advanced Python shell with\nTAB-completion and introspection capabilities.  See below for further\ninstructions.\n\nThe docstring examples assume that `numpy` has been imported as ``np``::\n\n  >>> import numpy as np\n\nCode snippets are indicated by three greater-than signs::\n\n  >>> x = 42\n  >>> x = x + 1\n\nUse the built-in ``help`` function to view a function's docstring::\n\n  >>> help(np.sort)\n  ... # doctest: +SKIP\n\nFor some objects, ``np.info(obj)`` may provide additional help.  This is\nparticularly true if you see the line \"Help on ufunc object:\" at the top\nof the help() page.  Ufuncs are implemented in C, not Python, for speed.\nThe native Python help() does not know how to view their help, but our\nnp.info() function does.\n\nAvailable subpackages\n---------------------\nlib\n    Basic functions used by several sub-packages.\nrandom\n    Core Random Tools\nlinalg\n    Core Linear Algebra Tools\nfft\n    Core FFT routines\npolynomial\n    Polynomial tools\ntesting\n    NumPy testing tools\ndistutils\n    Enhancements to distutils with support for\n    Fortran compilers support and more (for Python <= 3.11)\n\nUtilities\n---------\ntest\n    Run numpy unittests\nshow_config\n    Show numpy build configuration\n__version__\n    NumPy version string\n\nViewing documentation using IPython\n-----------------------------------\n\nStart IPython and import `numpy` usually under the alias ``np``: `import\nnumpy as np`.  Then, directly past or use the ``%cpaste`` magic to paste\nexamples into the shell.  To see which functions are available in `numpy`,\ntype ``np.<TAB>`` (where ``<TAB>`` refers to the TAB key), or use\n``np.*cos*?<ENTER>`` (where ``<ENTER>`` refers to the ENTER key) to narrow\ndown the list.  To view the docstring for a function, use\n``np.cos?<ENTER>`` (to view the docstring) and ``np.cos??<ENTER>`` (to view\nthe source code).\n\nCopies vs. in-place operation\n-----------------------------\nMost of the functions in `numpy` return a copy of the array argument\n(e.g., `np.sort`).  In-place versions of these functions are often\navailable as array methods, i.e. ``x = np.array([1,2,3]); x.sort()``.\nExceptions to this rule are documented.\n"
        }
      ],
      "execution_count": 18
    },
    {
      "id": "18618102-5147-4191-a289-ac8e95946b00",
      "cell_type": "code",
      "source": "np.arange??",
      "metadata": {
        "trusted": true
      },
      "outputs": [
        {
          "name": "stdout",
          "output_type": "stream",
          "text": "\u001b[0;31mDocstring:\u001b[0m\narange([start,] stop[, step,], dtype=None, *, device=None, like=None)\n\nReturn evenly spaced values within a given interval.\n\n``arange`` can be called with a varying number of positional arguments:\n\n* ``arange(stop)``: Values are generated within the half-open interval\n  ``[0, stop)`` (in other words, the interval including `start` but\n  excluding `stop`).\n* ``arange(start, stop)``: Values are generated within the half-open\n  interval ``[start, stop)``.\n* ``arange(start, stop, step)`` Values are generated within the half-open\n  interval ``[start, stop)``, with spacing between values given by\n  ``step``.\n\nFor integer arguments the function is roughly equivalent to the Python\nbuilt-in :py:class:`range`, but returns an ndarray rather than a ``range``\ninstance.\n\nWhen using a non-integer step, such as 0.1, it is often better to use\n`numpy.linspace`.\n\nSee the Warning sections below for more information.\n\nParameters\n----------\nstart : integer or real, optional\n    Start of interval.  The interval includes this value.  The default\n    start value is 0.\nstop : integer or real\n    End of interval.  The interval does not include this value, except\n    in some cases where `step` is not an integer and floating point\n    round-off affects the length of `out`.\nstep : integer or real, optional\n    Spacing between values.  For any output `out`, this is the distance\n    between two adjacent values, ``out[i+1] - out[i]``.  The default\n    step size is 1.  If `step` is specified as a position argument,\n    `start` must also be given.\ndtype : dtype, optional\n    The type of the output array.  If `dtype` is not given, infer the data\n    type from the other input arguments.\ndevice : str, optional\n    The device on which to place the created array. Default: None.\n    For Array-API interoperability only, so must be ``\"cpu\"`` if passed.\n\n    .. versionadded:: 2.0.0\nlike : array_like, optional\n    Reference object to allow the creation of arrays which are not\n    NumPy arrays. If an array-like passed in as ``like`` supports\n    the ``__array_function__`` protocol, the result will be defined\n    by it. In this case, it ensures the creation of an array object\n    compatible with that passed in via this argument.\n\n    .. versionadded:: 1.20.0\n\nReturns\n-------\narange : ndarray\n    Array of evenly spaced values.\n\n    For floating point arguments, the length of the result is\n    ``ceil((stop - start)/step)``.  Because of floating point overflow,\n    this rule may result in the last element of `out` being greater\n    than `stop`.\n\nWarnings\n--------\nThe length of the output might not be numerically stable.\n\nAnother stability issue is due to the internal implementation of\n`numpy.arange`.\nThe actual step value used to populate the array is\n``dtype(start + step) - dtype(start)`` and not `step`. Precision loss\ncan occur here, due to casting or due to using floating points when\n`start` is much larger than `step`. This can lead to unexpected\nbehaviour. For example::\n\n  >>> np.arange(0, 5, 0.5, dtype=int)\n  array([0, 0, 0, 0, 0, 0, 0, 0, 0, 0])\n  >>> np.arange(-3, 3, 0.5, dtype=int)\n  array([-3, -2, -1,  0,  1,  2,  3,  4,  5,  6,  7,  8])\n\nIn such cases, the use of `numpy.linspace` should be preferred.\n\nThe built-in :py:class:`range` generates :std:doc:`Python built-in integers\nthat have arbitrary size <python:c-api/long>`, while `numpy.arange`\nproduces `numpy.int32` or `numpy.int64` numbers. This may result in\nincorrect results for large integer values::\n\n  >>> power = 40\n  >>> modulo = 10000\n  >>> x1 = [(n ** power) % modulo for n in range(8)]\n  >>> x2 = [(n ** power) % modulo for n in np.arange(8)]\n  >>> print(x1)\n  [0, 1, 7776, 8801, 6176, 625, 6576, 4001]  # correct\n  >>> print(x2)\n  [0, 1, 7776, 7185, 0, 5969, 4816, 3361]  # incorrect\n\nSee Also\n--------\nnumpy.linspace : Evenly spaced numbers with careful handling of endpoints.\nnumpy.ogrid: Arrays of evenly spaced numbers in N-dimensions.\nnumpy.mgrid: Grid-shaped arrays of evenly spaced numbers in N-dimensions.\n:ref:`how-to-partition`\n\nExamples\n--------\n>>> np.arange(3)\narray([0, 1, 2])\n>>> np.arange(3.0)\narray([ 0.,  1.,  2.])\n>>> np.arange(3,7)\narray([3, 4, 5, 6])\n>>> np.arange(3,7,2)\narray([3, 5])\n\u001b[0;31mType:\u001b[0m      builtin_function_or_method\n"
        }
      ],
      "execution_count": 21
    },
    {
      "id": "a462ae77-44fb-493a-8e7b-116ffb471ec6",
      "cell_type": "code",
      "source": "import numpy as np\n",
      "metadata": {
        "trusted": true
      },
      "outputs": [],
      "execution_count": 26
    },
    {
      "id": "b92c6d63-ffd7-4875-ab7c-403705f698c3",
      "cell_type": "code",
      "source": "my_list=list(range(10))\nmy_list_list",
      "metadata": {
        "trusted": true
      },
      "outputs": [
        {
          "ename": "<class 'NameError'>",
          "evalue": "name 'my_list_list' is not defined",
          "traceback": [
            "\u001b[0;31m---------------------------------------------------------------------------\u001b[0m",
            "\u001b[0;31mNameError\u001b[0m                                 Traceback (most recent call last)",
            "Cell \u001b[0;32mIn[27], line 2\u001b[0m\n\u001b[1;32m      1\u001b[0m my_list\u001b[38;5;241m=\u001b[39m\u001b[38;5;28mlist\u001b[39m(\u001b[38;5;28mrange\u001b[39m(\u001b[38;5;241m10\u001b[39m))\n\u001b[0;32m----> 2\u001b[0m \u001b[43mmy_list_list\u001b[49m\n",
            "\u001b[0;31mNameError\u001b[0m: name 'my_list_list' is not defined"
          ],
          "output_type": "error"
        }
      ],
      "execution_count": 27
    },
    {
      "id": "7d844199-d95c-44ac-8777-a371e4c570a3",
      "cell_type": "code",
      "source": "",
      "metadata": {
        "trusted": true
      },
      "outputs": [],
      "execution_count": null
    }
  ]
}